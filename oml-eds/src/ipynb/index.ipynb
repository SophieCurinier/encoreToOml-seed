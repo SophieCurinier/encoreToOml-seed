{
 "cells": [
  {
   "cell_type": "markdown",
   "id": "9423f706",
   "metadata": {},
   "source": [
    "# EDS-OML\n",
    "\n",
    "## Description\n",
    "Welcome to our solution designed to streamline and standardize the use of Electronic Data Sheets (EDS) in the space industry. Our project focuses on enhancing the efficiency and accuracy of spacecraft design and integration by leveraging the power of EDS."
   ]
  },
  {
   "cell_type": "code",
   "execution_count": null,
   "id": "74f13512",
   "metadata": {},
   "outputs": [],
   "source": []
  }
 ],
 "metadata": {
  "kernelspec": {
   "display_name": "Python 3 (ipykernel)",
   "language": "python",
   "name": "python3"
  },
  "language_info": {
   "codemirror_mode": {
    "name": "ipython",
    "version": 3
   },
   "file_extension": ".py",
   "mimetype": "text/x-python",
   "name": "python",
   "nbconvert_exporter": "python",
   "pygments_lexer": "ipython3",
   "version": "3.9.13"
  }
 },
 "nbformat": 4,
 "nbformat_minor": 5
}
